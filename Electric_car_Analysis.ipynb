{
 "cells": [
  {
   "cell_type": "code",
   "execution_count": 1,
   "id": "0e0f57a1",
   "metadata": {},
   "outputs": [],
   "source": [
    "# lets start new project"
   ]
  },
  {
   "cell_type": "code",
   "execution_count": 2,
   "id": "1a496702",
   "metadata": {},
   "outputs": [],
   "source": [
    "import numpy as np\n",
    "import pandas as pd\n",
    "import seaborn as sns \n",
    "import matplotlib.pyplot as plt"
   ]
  },
  {
   "cell_type": "code",
   "execution_count": 3,
   "id": "fbb72a70",
   "metadata": {},
   "outputs": [],
   "source": [
    "df = pd.read_csv(r'C:\\Users\\Kunwa\\OneDrive\\Desktop\\Data Science\\Data Science Course Project\\Data\\Electric_Vehicle_Population_Data.csv')"
   ]
  },
  {
   "cell_type": "code",
   "execution_count": 4,
   "id": "7b302ed6",
   "metadata": {},
   "outputs": [
    {
     "data": {
      "text/html": [
       "<div>\n",
       "<style scoped>\n",
       "    .dataframe tbody tr th:only-of-type {\n",
       "        vertical-align: middle;\n",
       "    }\n",
       "\n",
       "    .dataframe tbody tr th {\n",
       "        vertical-align: top;\n",
       "    }\n",
       "\n",
       "    .dataframe thead th {\n",
       "        text-align: right;\n",
       "    }\n",
       "</style>\n",
       "<table border=\"1\" class=\"dataframe\">\n",
       "  <thead>\n",
       "    <tr style=\"text-align: right;\">\n",
       "      <th></th>\n",
       "      <th>VIN (1-10)</th>\n",
       "      <th>County</th>\n",
       "      <th>City</th>\n",
       "      <th>State</th>\n",
       "      <th>Postal Code</th>\n",
       "      <th>Model Year</th>\n",
       "      <th>Make</th>\n",
       "      <th>Model</th>\n",
       "      <th>Electric Vehicle Type</th>\n",
       "      <th>Clean Alternative Fuel Vehicle (CAFV) Eligibility</th>\n",
       "      <th>Electric Range</th>\n",
       "      <th>Base MSRP</th>\n",
       "      <th>Legislative District</th>\n",
       "      <th>DOL Vehicle ID</th>\n",
       "      <th>Vehicle Location</th>\n",
       "      <th>Electric Utility</th>\n",
       "      <th>2020 Census Tract</th>\n",
       "    </tr>\n",
       "  </thead>\n",
       "  <tbody>\n",
       "    <tr>\n",
       "      <th>0</th>\n",
       "      <td>5YJ3E1EB4L</td>\n",
       "      <td>Yakima</td>\n",
       "      <td>Yakima</td>\n",
       "      <td>WA</td>\n",
       "      <td>98908.0</td>\n",
       "      <td>2020</td>\n",
       "      <td>TESLA</td>\n",
       "      <td>MODEL 3</td>\n",
       "      <td>Battery Electric Vehicle (BEV)</td>\n",
       "      <td>Clean Alternative Fuel Vehicle Eligible</td>\n",
       "      <td>322</td>\n",
       "      <td>0</td>\n",
       "      <td>14.0</td>\n",
       "      <td>127175366</td>\n",
       "      <td>POINT (-120.56916 46.58514)</td>\n",
       "      <td>PACIFICORP</td>\n",
       "      <td>5.307700e+10</td>\n",
       "    </tr>\n",
       "    <tr>\n",
       "      <th>1</th>\n",
       "      <td>5YJ3E1EA7K</td>\n",
       "      <td>San Diego</td>\n",
       "      <td>San Diego</td>\n",
       "      <td>CA</td>\n",
       "      <td>92101.0</td>\n",
       "      <td>2019</td>\n",
       "      <td>TESLA</td>\n",
       "      <td>MODEL 3</td>\n",
       "      <td>Battery Electric Vehicle (BEV)</td>\n",
       "      <td>Clean Alternative Fuel Vehicle Eligible</td>\n",
       "      <td>220</td>\n",
       "      <td>0</td>\n",
       "      <td>NaN</td>\n",
       "      <td>266614659</td>\n",
       "      <td>POINT (-117.16171 32.71568)</td>\n",
       "      <td>NaN</td>\n",
       "      <td>6.073005e+09</td>\n",
       "    </tr>\n",
       "    <tr>\n",
       "      <th>2</th>\n",
       "      <td>7JRBR0FL9M</td>\n",
       "      <td>Lane</td>\n",
       "      <td>Eugene</td>\n",
       "      <td>OR</td>\n",
       "      <td>97404.0</td>\n",
       "      <td>2021</td>\n",
       "      <td>VOLVO</td>\n",
       "      <td>S60</td>\n",
       "      <td>Plug-in Hybrid Electric Vehicle (PHEV)</td>\n",
       "      <td>Not eligible due to low battery range</td>\n",
       "      <td>22</td>\n",
       "      <td>0</td>\n",
       "      <td>NaN</td>\n",
       "      <td>144502018</td>\n",
       "      <td>POINT (-123.12802 44.09573)</td>\n",
       "      <td>NaN</td>\n",
       "      <td>4.103900e+10</td>\n",
       "    </tr>\n",
       "    <tr>\n",
       "      <th>3</th>\n",
       "      <td>5YJXCBE21K</td>\n",
       "      <td>Yakima</td>\n",
       "      <td>Yakima</td>\n",
       "      <td>WA</td>\n",
       "      <td>98908.0</td>\n",
       "      <td>2019</td>\n",
       "      <td>TESLA</td>\n",
       "      <td>MODEL X</td>\n",
       "      <td>Battery Electric Vehicle (BEV)</td>\n",
       "      <td>Clean Alternative Fuel Vehicle Eligible</td>\n",
       "      <td>289</td>\n",
       "      <td>0</td>\n",
       "      <td>14.0</td>\n",
       "      <td>477039944</td>\n",
       "      <td>POINT (-120.56916 46.58514)</td>\n",
       "      <td>PACIFICORP</td>\n",
       "      <td>5.307700e+10</td>\n",
       "    </tr>\n",
       "    <tr>\n",
       "      <th>4</th>\n",
       "      <td>5UXKT0C5XH</td>\n",
       "      <td>Snohomish</td>\n",
       "      <td>Bothell</td>\n",
       "      <td>WA</td>\n",
       "      <td>98021.0</td>\n",
       "      <td>2017</td>\n",
       "      <td>BMW</td>\n",
       "      <td>X5</td>\n",
       "      <td>Plug-in Hybrid Electric Vehicle (PHEV)</td>\n",
       "      <td>Not eligible due to low battery range</td>\n",
       "      <td>14</td>\n",
       "      <td>0</td>\n",
       "      <td>1.0</td>\n",
       "      <td>106314946</td>\n",
       "      <td>POINT (-122.18384 47.8031)</td>\n",
       "      <td>PUGET SOUND ENERGY INC</td>\n",
       "      <td>5.306105e+10</td>\n",
       "    </tr>\n",
       "  </tbody>\n",
       "</table>\n",
       "</div>"
      ],
      "text/plain": [
       "   VIN (1-10)     County       City State  Postal Code  Model Year   Make   \n",
       "0  5YJ3E1EB4L     Yakima     Yakima    WA      98908.0        2020  TESLA  \\\n",
       "1  5YJ3E1EA7K  San Diego  San Diego    CA      92101.0        2019  TESLA   \n",
       "2  7JRBR0FL9M       Lane     Eugene    OR      97404.0        2021  VOLVO   \n",
       "3  5YJXCBE21K     Yakima     Yakima    WA      98908.0        2019  TESLA   \n",
       "4  5UXKT0C5XH  Snohomish    Bothell    WA      98021.0        2017    BMW   \n",
       "\n",
       "     Model                   Electric Vehicle Type   \n",
       "0  MODEL 3          Battery Electric Vehicle (BEV)  \\\n",
       "1  MODEL 3          Battery Electric Vehicle (BEV)   \n",
       "2      S60  Plug-in Hybrid Electric Vehicle (PHEV)   \n",
       "3  MODEL X          Battery Electric Vehicle (BEV)   \n",
       "4       X5  Plug-in Hybrid Electric Vehicle (PHEV)   \n",
       "\n",
       "  Clean Alternative Fuel Vehicle (CAFV) Eligibility  Electric Range   \n",
       "0           Clean Alternative Fuel Vehicle Eligible             322  \\\n",
       "1           Clean Alternative Fuel Vehicle Eligible             220   \n",
       "2             Not eligible due to low battery range              22   \n",
       "3           Clean Alternative Fuel Vehicle Eligible             289   \n",
       "4             Not eligible due to low battery range              14   \n",
       "\n",
       "   Base MSRP  Legislative District  DOL Vehicle ID   \n",
       "0          0                  14.0       127175366  \\\n",
       "1          0                   NaN       266614659   \n",
       "2          0                   NaN       144502018   \n",
       "3          0                  14.0       477039944   \n",
       "4          0                   1.0       106314946   \n",
       "\n",
       "              Vehicle Location        Electric Utility  2020 Census Tract  \n",
       "0  POINT (-120.56916 46.58514)              PACIFICORP       5.307700e+10  \n",
       "1  POINT (-117.16171 32.71568)                     NaN       6.073005e+09  \n",
       "2  POINT (-123.12802 44.09573)                     NaN       4.103900e+10  \n",
       "3  POINT (-120.56916 46.58514)              PACIFICORP       5.307700e+10  \n",
       "4   POINT (-122.18384 47.8031)  PUGET SOUND ENERGY INC       5.306105e+10  "
      ]
     },
     "execution_count": 4,
     "metadata": {},
     "output_type": "execute_result"
    }
   ],
   "source": [
    "df.head()"
   ]
  },
  {
   "cell_type": "code",
   "execution_count": 5,
   "id": "bbc86d7c",
   "metadata": {},
   "outputs": [
    {
     "name": "stdout",
     "output_type": "stream",
     "text": [
      "<class 'pandas.core.frame.DataFrame'>\n",
      "RangeIndex: 124716 entries, 0 to 124715\n",
      "Data columns (total 17 columns):\n",
      " #   Column                                             Non-Null Count   Dtype  \n",
      "---  ------                                             --------------   -----  \n",
      " 0   VIN (1-10)                                         124716 non-null  object \n",
      " 1   County                                             124714 non-null  object \n",
      " 2   City                                               124714 non-null  object \n",
      " 3   State                                              124716 non-null  object \n",
      " 4   Postal Code                                        124714 non-null  float64\n",
      " 5   Model Year                                         124716 non-null  int64  \n",
      " 6   Make                                               124716 non-null  object \n",
      " 7   Model                                              124535 non-null  object \n",
      " 8   Electric Vehicle Type                              124716 non-null  object \n",
      " 9   Clean Alternative Fuel Vehicle (CAFV) Eligibility  124716 non-null  object \n",
      " 10  Electric Range                                     124716 non-null  int64  \n",
      " 11  Base MSRP                                          124716 non-null  int64  \n",
      " 12  Legislative District                               124419 non-null  float64\n",
      " 13  DOL Vehicle ID                                     124716 non-null  int64  \n",
      " 14  Vehicle Location                                   124687 non-null  object \n",
      " 15  Electric Utility                                   124243 non-null  object \n",
      " 16  2020 Census Tract                                  124714 non-null  float64\n",
      "dtypes: float64(3), int64(4), object(10)\n",
      "memory usage: 16.2+ MB\n"
     ]
    }
   ],
   "source": [
    "df.info()"
   ]
  },
  {
   "cell_type": "code",
   "execution_count": 6,
   "id": "2de0f6cd",
   "metadata": {},
   "outputs": [
    {
     "data": {
      "text/plain": [
       "(124716, 17)"
      ]
     },
     "execution_count": 6,
     "metadata": {},
     "output_type": "execute_result"
    }
   ],
   "source": [
    "df.shape"
   ]
  },
  {
   "cell_type": "code",
   "execution_count": 7,
   "id": "08e1d811",
   "metadata": {},
   "outputs": [
    {
     "name": "stdout",
     "output_type": "stream",
     "text": [
      "Number of records: 124716\n",
      "Number of Columns: 17 \n",
      "\n",
      "Columns: Index(['VIN (1-10)', 'County', 'City', 'State', 'Postal Code', 'Model Year',\n",
      "       'Make', 'Model', 'Electric Vehicle Type',\n",
      "       'Clean Alternative Fuel Vehicle (CAFV) Eligibility', 'Electric Range',\n",
      "       'Base MSRP', 'Legislative District', 'DOL Vehicle ID',\n",
      "       'Vehicle Location', 'Electric Utility', '2020 Census Tract'],\n",
      "      dtype='object')\n"
     ]
    }
   ],
   "source": [
    "print('Number of records:',df.shape[0])\n",
    "print('Number of Columns:',df.shape[1],'\\n')\n",
    "\n",
    "print('Columns:',df.columns)"
   ]
  },
  {
   "cell_type": "code",
   "execution_count": 8,
   "id": "8c588b1a",
   "metadata": {},
   "outputs": [
    {
     "data": {
      "text/plain": [
       "VIN (1-10)                                             0\n",
       "County                                                 2\n",
       "City                                                   2\n",
       "State                                                  0\n",
       "Postal Code                                            2\n",
       "Model Year                                             0\n",
       "Make                                                   0\n",
       "Model                                                181\n",
       "Electric Vehicle Type                                  0\n",
       "Clean Alternative Fuel Vehicle (CAFV) Eligibility      0\n",
       "Electric Range                                         0\n",
       "Base MSRP                                              0\n",
       "Legislative District                                 297\n",
       "DOL Vehicle ID                                         0\n",
       "Vehicle Location                                      29\n",
       "Electric Utility                                     473\n",
       "2020 Census Tract                                      2\n",
       "dtype: int64"
      ]
     },
     "execution_count": 8,
     "metadata": {},
     "output_type": "execute_result"
    }
   ],
   "source": [
    "df.isnull().sum()"
   ]
  },
  {
   "cell_type": "code",
   "execution_count": 9,
   "id": "ed5c977d",
   "metadata": {},
   "outputs": [
    {
     "data": {
      "text/plain": [
       "False"
      ]
     },
     "execution_count": 9,
     "metadata": {},
     "output_type": "execute_result"
    }
   ],
   "source": [
    "df.duplicated().any()"
   ]
  },
  {
   "cell_type": "code",
   "execution_count": 10,
   "id": "1b635319",
   "metadata": {},
   "outputs": [
    {
     "name": "stdout",
     "output_type": "stream",
     "text": [
      "Number of VIN (1-10) : 8340 \n",
      "\n",
      "Number of County : 166 \n",
      "\n",
      "Number of City : 651 \n",
      "\n",
      "Number of State : 44 \n",
      "\n",
      "Number of Postal Code : 781 \n",
      "\n",
      "Number of Model Year : 21 \n",
      "\n",
      "Number of Make : 35 \n",
      "\n",
      "Number of Model : 120 \n",
      "\n",
      "Number of Electric Vehicle Type : 2 \n",
      "\n",
      "Number of Clean Alternative Fuel Vehicle (CAFV) Eligibility : 3 \n",
      "\n",
      "Number of Electric Range : 101 \n",
      "\n",
      "Number of Base MSRP : 31 \n",
      "\n",
      "Number of Legislative District : 49 \n",
      "\n",
      "Number of DOL Vehicle ID : 124716 \n",
      "\n",
      "Number of Vehicle Location : 768 \n",
      "\n",
      "Number of Electric Utility : 73 \n",
      "\n",
      "Number of 2020 Census Tract : 2036 \n",
      "\n"
     ]
    }
   ],
   "source": [
    "for column in df.columns:\n",
    "    print('Number of',column,':',df[column].nunique(),'\\n')"
   ]
  },
  {
   "cell_type": "markdown",
   "id": "637bd70c",
   "metadata": {},
   "source": [
    "# Country"
   ]
  },
  {
   "cell_type": "code",
   "execution_count": 11,
   "id": "d911f7cc",
   "metadata": {},
   "outputs": [
    {
     "name": "stdout",
     "output_type": "stream",
     "text": [
      "Number of Counties: 2036\n"
     ]
    }
   ],
   "source": [
    " print('Number of Counties:',df[column].nunique())"
   ]
  },
  {
   "cell_type": "markdown",
   "id": "5fb37c88",
   "metadata": {},
   "source": [
    "Counties having Most Vechicals"
   ]
  },
  {
   "cell_type": "code",
   "execution_count": 12,
   "id": "5d8a3e15",
   "metadata": {},
   "outputs": [
    {
     "name": "stdout",
     "output_type": "stream",
     "text": [
      "Counties having Most Vechicals\n",
      " County\n",
      "King         65268\n",
      "Snohomish    14061\n",
      "Pierce        9538\n",
      "Clark         7404\n",
      "Thurston      4548\n",
      "Kitsap        4148\n",
      "Whatcom       3101\n",
      "Spokane       3080\n",
      "Benton        1568\n",
      "Skagit        1406\n",
      "Name: count, dtype: int64\n"
     ]
    }
   ],
   "source": [
    "print(\"Counties having Most Vechicals\\n\",df['County'].value_counts().nlargest(10))"
   ]
  },
  {
   "cell_type": "code",
   "execution_count": 30,
   "id": "2c097025",
   "metadata": {},
   "outputs": [
    {
     "name": "stdout",
     "output_type": "stream",
     "text": [
      "Most used Model in King county:\n",
      " Model\n",
      "MODEL 3    14128\n",
      "MODEL Y    12036\n",
      "LEAF        6371\n",
      "MODEL S     4086\n",
      "MODEL X     2845\n",
      "Name: count, dtype: int64\n"
     ]
    }
   ],
   "source": [
    "df_king = df[df['County']=='King']\n",
    "print('Most used Model in King county:\\n',df_king['Model'].value_counts().nlargest())"
   ]
  },
  {
   "cell_type": "markdown",
   "id": "7bfcce6d",
   "metadata": {},
   "source": [
    "Finding the null value and replacing it with other"
   ]
  },
  {
   "cell_type": "code",
   "execution_count": 14,
   "id": "e0844da2",
   "metadata": {},
   "outputs": [
    {
     "data": {
      "text/plain": [
       "County      2\n",
       "Model     181\n",
       "dtype: int64"
      ]
     },
     "execution_count": 14,
     "metadata": {},
     "output_type": "execute_result"
    }
   ],
   "source": [
    "df[['County','Model']].isnull().sum()"
   ]
  },
  {
   "cell_type": "code",
   "execution_count": 20,
   "id": "320942f7",
   "metadata": {},
   "outputs": [],
   "source": [
    "df.Model.fillna('Other',inplace =True)\n",
    "df.County.fillna('Other',inplace =True)"
   ]
  },
  {
   "cell_type": "code",
   "execution_count": 21,
   "id": "e1f40ac3",
   "metadata": {},
   "outputs": [
    {
     "data": {
      "text/plain": [
       "County    False\n",
       "Model     False\n",
       "dtype: bool"
      ]
     },
     "execution_count": 21,
     "metadata": {},
     "output_type": "execute_result"
    }
   ],
   "source": [
    "df[['County','Model']].isnull().any()"
   ]
  },
  {
   "cell_type": "markdown",
   "id": "c510b634",
   "metadata": {},
   "source": [
    "# 1st 10 countries having most model"
   ]
  },
  {
   "cell_type": "code",
   "execution_count": 25,
   "id": "0aa813e7",
   "metadata": {},
   "outputs": [],
   "source": [
    "x = df['County'].head(10)\n",
    "y = df['Model'].head(10)"
   ]
  },
  {
   "cell_type": "code",
   "execution_count": 29,
   "id": "daa68962",
   "metadata": {},
   "outputs": [
    {
     "data": {
      "image/png": "[encoded data removed]",
      "text/plain": [
       "<Figure size 800x500 with 1 Axes>"
      ]
     },
     "metadata": {},
     "output_type": "display_data"
    }
   ],
   "source": [
    "plt.figure(figsize = (8,5))\n",
    "plt.bar(list(y),list(x),color = ['blue','red','lightgreen','pink','yellow'])\n",
    "plt.show()"
   ]
  },
  {
   "cell_type": "markdown",
   "id": "928e1273",
   "metadata": {},
   "source": [
    "Counties having Least Vechicals"
   ]
  },
  {
   "cell_type": "code",
   "execution_count": 49,
   "id": "028ad0c0",
   "metadata": {},
   "outputs": [
    {
     "name": "stdout",
     "output_type": "stream",
     "text": [
      "Counties having Least Vechicals\n",
      " County\n",
      "Polk           1\n",
      "Larimer        1\n",
      "Jackson        1\n",
      "Sheridan       1\n",
      "Lee            1\n",
      "Houston        1\n",
      "Denton         1\n",
      "Rock Island    1\n",
      "Howard         1\n",
      "Charles        1\n",
      "Name: count, dtype: int64\n"
     ]
    }
   ],
   "source": [
    "print(\"Counties having Least Vechicals\\n\",df['County'].value_counts().nsmallest(10))"
   ]
  },
  {
   "cell_type": "code",
   "execution_count": null,
   "id": "d7b29695",
   "metadata": {},
   "outputs": [],
   "source": [
    "# df.drop(df['County'].value_counts().nsmallest())"
   ]
  },
  {
   "cell_type": "markdown",
   "id": "7ed4a86b",
   "metadata": {},
   "source": [
    "# City"
   ]
  },
  {
   "cell_type": "code",
   "execution_count": 51,
   "id": "d15a6d14",
   "metadata": {},
   "outputs": [
    {
     "name": "stdout",
     "output_type": "stream",
     "text": [
      "City having Most Vechicals\n",
      " City\n",
      "Seattle      22009\n",
      "Bellevue      6489\n",
      "Redmond       4646\n",
      "Vancouver     4464\n",
      "Kirkland      3923\n",
      "Bothell       3852\n",
      "Sammamish     3653\n",
      "Renton        3115\n",
      "Olympia       3041\n",
      "Tacoma        2655\n",
      "Name: count, dtype: int64\n"
     ]
    }
   ],
   "source": [
    "print(\"City having Most Vechicals\\n\",df['City'].value_counts().nlargest(10))"
   ]
  },
  {
   "cell_type": "code",
   "execution_count": 52,
   "id": "15ab2d00",
   "metadata": {},
   "outputs": [
    {
     "name": "stdout",
     "output_type": "stream",
     "text": [
      "Most used Model in Seattle City:\n",
      " Model\n",
      "MODEL 3    4339\n",
      "MODEL Y    3238\n",
      "LEAF       2592\n",
      "MODEL S    1074\n",
      "BOLT EV    1019\n",
      "Name: count, dtype: int64\n"
     ]
    }
   ],
   "source": [
    "df_Seattle = df[df['City']=='Seattle']\n",
    "print('Most used Model in Seattle City:\\n',df_Seattle['Model'].value_counts().nlargest())"
   ]
  },
  {
   "cell_type": "code",
   "execution_count": 53,
   "id": "756c871a",
   "metadata": {},
   "outputs": [
    {
     "name": "stdout",
     "output_type": "stream",
     "text": [
      "City having Least Vechicals\n",
      " City\n",
      "Deer Harbor         1\n",
      "Fort Leavenworth    1\n",
      "Goldsboro           1\n",
      "Annapolis           1\n",
      "Prescott            1\n",
      "Nespelem            1\n",
      "Hunters             1\n",
      "Rayville            1\n",
      "Klickitat           1\n",
      "Smith Creek         1\n",
      "Name: count, dtype: int64\n"
     ]
    }
   ],
   "source": [
    "print(\"City having Least Vechicals\\n\",df['City'].value_counts().nsmallest(10))"
   ]
  },
  {
   "cell_type": "markdown",
   "id": "249f8acf",
   "metadata": {},
   "source": [
    "# State"
   ]
  },
  {
   "cell_type": "code",
   "execution_count": 54,
   "id": "061b9c85",
   "metadata": {},
   "outputs": [
    {
     "name": "stdout",
     "output_type": "stream",
     "text": [
      "State having Most Vechicals\n",
      " State\n",
      "WA    124419\n",
      "CA        80\n",
      "VA        36\n",
      "MD        27\n",
      "TX        18\n",
      "CO        10\n",
      "NC         9\n",
      "AZ         8\n",
      "GA         7\n",
      "CT         7\n",
      "Name: count, dtype: int64\n"
     ]
    }
   ],
   "source": [
    "print(\"State having Most Vechicals\\n\",df['State'].value_counts().nlargest(10))"
   ]
  },
  {
   "cell_type": "code",
   "execution_count": 55,
   "id": "688d6fff",
   "metadata": {},
   "outputs": [
    {
     "name": "stdout",
     "output_type": "stream",
     "text": [
      "Most used Model in Seattle City:\n",
      " Model\n",
      "MODEL 3    24329\n",
      "MODEL Y    20632\n",
      "LEAF       12910\n",
      "MODEL S     7330\n",
      "BOLT EV     4985\n",
      "Name: count, dtype: int64\n"
     ]
    }
   ],
   "source": [
    "df_State = df[df['State']=='WA']\n",
    "print('Most used Model in Seattle City:\\n',df_State['Model'].value_counts().nlargest())"
   ]
  },
  {
   "cell_type": "code",
   "execution_count": 56,
   "id": "ae0f7a63",
   "metadata": {},
   "outputs": [
    {
     "name": "stdout",
     "output_type": "stream",
     "text": [
      "State having Least Vechicals\n",
      " State\n",
      "WI    1\n",
      "NM    1\n",
      "DE    1\n",
      "AL    1\n",
      "AK    1\n",
      "RI    1\n",
      "NH    1\n",
      "MN    1\n",
      "IN    1\n",
      "MS    1\n",
      "Name: count, dtype: int64\n"
     ]
    }
   ],
   "source": [
    "print(\"State having Least Vechicals\\n\",df['State'].value_counts().nsmallest(10))"
   ]
  },
  {
   "cell_type": "markdown",
   "id": "6066eba0",
   "metadata": {},
   "source": [
    "# Postal Code"
   ]
  },
  {
   "cell_type": "code",
   "execution_count": 59,
   "id": "81b779ec",
   "metadata": {},
   "outputs": [
    {
     "name": "stdout",
     "output_type": "stream",
     "text": [
      "Postal Code having Least Vechicals\n",
      " Postal Code\n",
      "98052.0    3247\n",
      "98033.0    2233\n",
      "98012.0    2161\n",
      "98004.0    2140\n",
      "98006.0    2049\n",
      "98115.0    2016\n",
      "98072.0    1834\n",
      "98040.0    1827\n",
      "98074.0    1792\n",
      "98034.0    1734\n",
      "Name: count, dtype: int64\n"
     ]
    }
   ],
   "source": [
    "print(\"Postal Code having Least Vechicals\\n\",df['Postal Code'].value_counts().nlargest(10))"
   ]
  },
  {
   "cell_type": "code",
   "execution_count": 61,
   "id": "64790028",
   "metadata": {},
   "outputs": [
    {
     "name": "stdout",
     "output_type": "stream",
     "text": [
      "Most used Model in Postal 98052.0:\n",
      " Model\n",
      "MODEL 3    842\n",
      "MODEL Y    768\n",
      "LEAF       334\n",
      "MODEL S    189\n",
      "MODEL X    157\n",
      "Name: count, dtype: int64\n"
     ]
    }
   ],
   "source": [
    "df_postal = df[df['Postal Code']==98052.0]\n",
    "print('Most used Model in Postal 98052.0:\\n',df_postal['Model'].value_counts().nlargest())"
   ]
  },
  {
   "cell_type": "code",
   "execution_count": 62,
   "id": "075fcfea",
   "metadata": {},
   "outputs": [
    {
     "name": "stdout",
     "output_type": "stream",
     "text": [
      "Postal Code having Least vehicle: Postal Code\n",
      "92595.0    1\n",
      "99137.0    1\n",
      "28376.0    1\n",
      "90802.0    1\n",
      "93436.0    1\n",
      "Name: count, dtype: int64\n"
     ]
    }
   ],
   "source": [
    "print('Postal Code having Least vehicle:',df['Postal Code'].value_counts().nsmallest())"
   ]
  },
  {
   "cell_type": "markdown",
   "id": "5d19345d",
   "metadata": {},
   "source": [
    "# Model"
   ]
  },
  {
   "cell_type": "code",
   "execution_count": 65,
   "id": "c3c7390d",
   "metadata": {},
   "outputs": [
    {
     "name": "stdout",
     "output_type": "stream",
     "text": [
      "Total number of Model:\n",
      " ['MODEL 3' 'S60' 'MODEL X' 'X5' 'LEAF' 'GLC-CLASS' 'NIRO' 'SOUL' 'EV6'\n",
      " 'VOLT' 'MODEL S' 'FOCUS' 'MODEL Y' 'I3' 'BOLT EV' 'C-MAX' 'FUSION' 'XC60'\n",
      " 'X3' 'HARDTOP' 'PRIUS PRIME' '500' 'RAV4 PRIME' 'EDV' 'SOUL EV'\n",
      " 'SOLTERRA' 'XC90' 'Q4' 'CAYENNE' 'GRAND CHEROKEE' 'R1T' 'XC40' 'I8'\n",
      " 'KONA' 'SONATA' 'SPARK' 'PACIFICA' 'I4' 'Q5 E' 'ID.4' 'WRANGLER'\n",
      " 'PRIUS PLUG-IN' 'E-GOLF' 'CLARITY' 'BOLT EUV' 'FORTWO' 'ESCAPE' '530E'\n",
      " 'CORSAIR' 'MUSTANG MACH-E' 'KONA ELECTRIC' 'OUTLANDER' 'EQ FORTWO'\n",
      " 'E-TRON' 'GLE-CLASS' 'SORENTO' 'RAV4' 'A3' 'CT6' 'E-TRON SPORTBACK'\n",
      " 'IONIQ 5' 'PS2' 'R1S' 'EQS-CLASS SUV' 'C40' '330E' 'TAYCAN' 'I-PACE'\n",
      " 'E-TRON GT' 'F-150' 'LUCID AIR' 'SPORTAGE' 'COUNTRYMAN' 'IX' 'TUCSON'\n",
      " 'Other' 'IONIQ' 'Q5' 'EQS-CLASS SEDAN' 'TRANSIT' 'B-CLASS' 'AVIATOR'\n",
      " 'OPTIMA' 'A8 E' 'EQB-CLASS' 'SANTA FE' 'PANAMERA' 'ROADSTER' 'NX'\n",
      " 'FORTWO ELECTRIC DRIVE' 'C-CLASS' 'BZ4X' 'CROSSTREK' 'I-MIEV'\n",
      " 'RANGE ROVER SPORT' 'ELR' 'LYRIQ' 'V60' 'RANGER' 'ARIYA' 'GV60' 'KARMA'\n",
      " 'S90' 'EQE-CLASS SEDAN' 'RS E-TRON GT' '740E' 'RANGE ROVER' 'A7'\n",
      " 'S-CLASS' 'ACCORD' 'TRANSIT CONNECT ELECTRIC' 'WHEEGO' '745E' '745LE'\n",
      " 'G80' 'CITY' 'RZ 450E' '918' 'FLYING SPUR' 'BENTAYGA' 'S-10 PICKUP']\n"
     ]
    }
   ],
   "source": [
    "print('Total number of Model:\\n', df.Model.unique())"
   ]
  },
  {
   "cell_type": "code",
   "execution_count": 66,
   "id": "e4fc942a",
   "metadata": {},
   "outputs": [
    {
     "name": "stdout",
     "output_type": "stream",
     "text": [
      "Total number of Model:\n",
      " 121\n"
     ]
    }
   ],
   "source": [
    "print('Total number of Model:\\n', df.Model.nunique())"
   ]
  },
  {
   "cell_type": "markdown",
   "id": "1c67e0b0",
   "metadata": {},
   "source": [
    "# Model Year"
   ]
  },
  {
   "cell_type": "code",
   "execution_count": 68,
   "id": "f9c26626",
   "metadata": {},
   "outputs": [
    {
     "name": "stdout",
     "output_type": "stream",
     "text": [
      "Total number of Model year:\n",
      " 21\n"
     ]
    }
   ],
   "source": [
    "print('Total number of Model year:\\n',df['Model Year'].nunique())"
   ]
  },
  {
   "cell_type": "code",
   "execution_count": 69,
   "id": "bf8d3291",
   "metadata": {},
   "outputs": [
    {
     "name": "stdout",
     "output_type": "stream",
     "text": [
      "Model Year Model Year\n",
      "2022    27522\n",
      "2021    18296\n",
      "2018    14224\n",
      "2023    13353\n",
      "2020    10926\n",
      "2019    10450\n",
      "2017     8558\n",
      "2016     5702\n",
      "2015     4935\n",
      "2013     4581\n",
      "2014     3609\n",
      "2012     1668\n",
      "2011      828\n",
      "2010       24\n",
      "2008       22\n",
      "2000        9\n",
      "1999        4\n",
      "2002        2\n",
      "1998        1\n",
      "2003        1\n",
      "1997        1\n",
      "Name: count, dtype: int64\n"
     ]
    }
   ],
   "source": [
    "print(\"Model Year\",df['Model Year'].value_counts())"
   ]
  },
  {
   "cell_type": "code",
   "execution_count": 72,
   "id": "af91528e",
   "metadata": {},
   "outputs": [
    {
     "data": {
      "text/plain": [
       "<Axes: xlabel='Model Year'>"
      ]
     },
     "execution_count": 72,
     "metadata": {},
     "output_type": "execute_result"
    },
    {
     "data": {
      "image/png": "[encoded data removed]",
      "text/plain": [
       "<Figure size 1500x800 with 1 Axes>"
      ]
     },
     "metadata": {},
     "output_type": "display_data"
    }
   ],
   "source": [
    "plt.figure(figsize = (15,8))\n",
    "df['Model Year'].value_counts().sort_values().plot(kind=\"bar\")"
   ]
  },
  {
   "cell_type": "code",
   "execution_count": null,
   "id": "18d971a9",
   "metadata": {},
   "outputs": [],
   "source": []
  }
 ],
 "metadata": {
  "kernelspec": {
   "display_name": "Python 3 (ipykernel)",
   "language": "python",
   "name": "python3"
  },
  "language_info": {
   "codemirror_mode": {
    "name": "ipython",
    "version": 3
   },
   "file_extension": ".py",
   "mimetype": "text/x-python",
   "name": "python",
   "nbconvert_exporter": "python",
   "pygments_lexer": "ipython3",
   "version": "3.11.2"
  }
 },
 "nbformat": 4,
 "nbformat_minor": 5
}
